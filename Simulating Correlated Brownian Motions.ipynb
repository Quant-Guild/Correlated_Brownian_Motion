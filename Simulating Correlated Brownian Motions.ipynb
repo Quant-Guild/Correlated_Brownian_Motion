{
 "cells": [
  {
   "cell_type": "markdown",
   "id": "b8700d08",
   "metadata": {},
   "source": [
    "![title](qgr.png)"
   ]
  },
  {
   "cell_type": "markdown",
   "id": "62eec323",
   "metadata": {},
   "source": [
    "# Simulating Correlated Brownian Motions"
   ]
  },
  {
   "cell_type": "code",
   "execution_count": 1,
   "id": "1101ab43",
   "metadata": {},
   "outputs": [],
   "source": [
    "import numpy as np\n",
    "import matplotlib.pyplot as plt\n",
    "import matplotlib as mpl"
   ]
  },
  {
   "cell_type": "code",
   "execution_count": 2,
   "id": "b23df6a4",
   "metadata": {},
   "outputs": [
    {
     "data": {
      "text/plain": [
       "'1.21.2'"
      ]
     },
     "execution_count": 2,
     "metadata": {},
     "output_type": "execute_result"
    }
   ],
   "source": [
    "np.__version__"
   ]
  },
  {
   "cell_type": "code",
   "execution_count": 3,
   "id": "7b922225",
   "metadata": {},
   "outputs": [
    {
     "data": {
      "text/plain": [
       "'3.4.3'"
      ]
     },
     "execution_count": 3,
     "metadata": {},
     "output_type": "execute_result"
    }
   ],
   "source": [
    "mpl.__version__"
   ]
  },
  {
   "cell_type": "markdown",
   "id": "a509e98e",
   "metadata": {},
   "source": [
    "### Welcome to Quant Guild Research!\n",
    "\n",
    "In this notebook we will look at two methods of simulating correlated Brownian motions.\n",
    "\n",
    "Let us first start by motiving the simulation of these correlated random walks, consider the following chart...\n"
   ]
  },
  {
   "cell_type": "markdown",
   "id": "8cd71a9e",
   "metadata": {},
   "source": [
    "![title](vix-graph.png)"
   ]
  },
  {
   "cell_type": "markdown",
   "id": "2e5ed859",
   "metadata": {},
   "source": [
    "The image above depicts positive movements in the S&P 500 as being correlated with negative movements in the VIX and vice versa. This is not a causal relationship by any means (correlation does not imply causation) but rather a useful empiric to note in modeling practice.\n",
    "\n",
    "In fact, many assets are correlated with one another in some fashion. Therefore to better assess portfolio risk or perhaps develop more accurate derivative prices (think contracts on multiple underlying simultaneously) it becomes necessary to impose a correlation structure in our stochastic models.\n",
    "\n",
    "Herein we will explore two different ways to accomplish this. One will use the infamous Cholesky decomposition and the other will take a more analytical approach to impose the correlation structure."
   ]
  },
  {
   "cell_type": "markdown",
   "id": "1333e8f6",
   "metadata": {},
   "source": [
    "### Simulating Correlated Brownian Motions Method I\n",
    "\n",
    "#### Cholesky Decomposition for Correlated Brownian Motions\n",
    "\n",
    "A Hermitian positive-definite matrix $A$ may be decomposed into\n",
    "\n",
    "$$A = LL^T$$\n",
    "\n",
    "Mathematical jargon aside you may think of a \"Hermitian positive-definite matrix\" as something like a correlation matrix. The actual decomposition (LL^T) is then easily computed programmatically."
   ]
  },
  {
   "cell_type": "code",
   "execution_count": 4,
   "id": "2d939af9",
   "metadata": {},
   "outputs": [
    {
     "name": "stdout",
     "output_type": "stream",
     "text": [
      "Correlation Matrix: \n",
      "[[ 1.  -0.7]\n",
      " [-0.7  1. ]]\n"
     ]
    }
   ],
   "source": [
    "# Correlation coefficient\n",
    "rho = -.7\n",
    "\n",
    "# Correlation structure\n",
    "C = np.array([[1, rho], [rho, 1]])\n",
    "\n",
    "print('Correlation Matrix: ')\n",
    "print(np.array(C))"
   ]
  },
  {
   "cell_type": "markdown",
   "id": "d654bf0e",
   "metadata": {},
   "source": [
    "Now that we have developed the correlation structure its time to develop the Brownian motions themselves.  Here we will be using a step size of one day (1/252) and a path length of one thousand days."
   ]
  },
  {
   "cell_type": "code",
   "execution_count": 5,
   "id": "f3eea0b7",
   "metadata": {},
   "outputs": [],
   "source": [
    "# Step size\n",
    "dt = 1/252\n",
    "\n",
    "# Brownian motions (each path indexed by X[0], X[1])\n",
    "X = np.random.normal(0, (dt**(1/2)), (2, 1000))"
   ]
  },
  {
   "cell_type": "markdown",
   "id": "62cb9a40",
   "metadata": {},
   "source": [
    "The Cholesky decomposition is implemented below in one line using numpy!"
   ]
  },
  {
   "cell_type": "code",
   "execution_count": 6,
   "id": "60152cf9",
   "metadata": {},
   "outputs": [],
   "source": [
    "L = np.linalg.cholesky(C)"
   ]
  },
  {
   "cell_type": "code",
   "execution_count": 7,
   "id": "0379f51d",
   "metadata": {},
   "outputs": [
    {
     "name": "stdout",
     "output_type": "stream",
     "text": [
      "Lower Triangular Matrix: \n",
      "[[ 1.          0.        ]\n",
      " [-0.7         0.71414284]]\n"
     ]
    }
   ],
   "source": [
    "print('Lower Triangular Matrix: ')\n",
    "print(L)"
   ]
  },
  {
   "cell_type": "code",
   "execution_count": 8,
   "id": "e7725bcd",
   "metadata": {},
   "outputs": [
    {
     "name": "stdout",
     "output_type": "stream",
     "text": [
      "Upper Triangular Matrix: \n",
      "[[ 1.         -0.7       ]\n",
      " [ 0.          0.71414284]]\n"
     ]
    }
   ],
   "source": [
    "print('Upper Triangular Matrix: ')\n",
    "print(L.T)"
   ]
  },
  {
   "cell_type": "markdown",
   "id": "782613a0",
   "metadata": {},
   "source": [
    "Here we can see the reconstruction of $C$ by taking the dot product of $LL^T$"
   ]
  },
  {
   "cell_type": "code",
   "execution_count": 9,
   "id": "b1bd0d9a",
   "metadata": {},
   "outputs": [
    {
     "name": "stdout",
     "output_type": "stream",
     "text": [
      "Reconstructed Decomposition: \n",
      "[[ 1.  -0.7]\n",
      " [-0.7  1. ]]\n"
     ]
    }
   ],
   "source": [
    "C = np.dot(L, L.T)\n",
    "print('Reconstructed Decomposition: ')\n",
    "print(C)"
   ]
  },
  {
   "cell_type": "markdown",
   "id": "94e2b619",
   "metadata": {},
   "source": [
    "To impose the correlation structure on the Brownian motions all we have to do is take the dot product of the Cholesky decomposition with the paths..."
   ]
  },
  {
   "cell_type": "code",
   "execution_count": 10,
   "id": "1461ef7f",
   "metadata": {},
   "outputs": [],
   "source": [
    "# CX is a matrix of two Brownian motions\n",
    "CX = np.dot(L, X)"
   ]
  },
  {
   "cell_type": "markdown",
   "id": "d9774ff1",
   "metadata": {},
   "source": [
    "Here we visualize the correlated paths..."
   ]
  },
  {
   "cell_type": "code",
   "execution_count": 11,
   "id": "bd052c23",
   "metadata": {},
   "outputs": [
    {
     "data": {
      "image/png": "[encoded data removed]",
      "text/plain": [
       "<Figure size 432x288 with 1 Axes>"
      ]
     },
     "metadata": {
      "needs_background": "light"
     },
     "output_type": "display_data"
    }
   ],
   "source": [
    "for path in CX:\n",
    "    plt.plot(path.cumsum())"
   ]
  },
  {
   "cell_type": "markdown",
   "id": "d098c9fb",
   "metadata": {},
   "source": [
    "We can see the correlation matrix in the increment and path space by calling numpy's correlation function..."
   ]
  },
  {
   "cell_type": "code",
   "execution_count": 12,
   "id": "b3920643",
   "metadata": {},
   "outputs": [
    {
     "name": "stdout",
     "output_type": "stream",
     "text": [
      "Imposed Correlation on Brownian Motion Paths\n"
     ]
    },
    {
     "data": {
      "text/plain": [
       "array([[ 1.        , -0.62813226],\n",
       "       [-0.62813226,  1.        ]])"
      ]
     },
     "execution_count": 12,
     "metadata": {},
     "output_type": "execute_result"
    }
   ],
   "source": [
    "print('Imposed Correlation on Brownian Motion Paths')\n",
    "np.corrcoef(np.array([CX[0].cumsum(), CX[1].cumsum()]))"
   ]
  },
  {
   "cell_type": "code",
   "execution_count": 13,
   "id": "6ce04e5b",
   "metadata": {},
   "outputs": [
    {
     "name": "stdout",
     "output_type": "stream",
     "text": [
      "Imposed Correlation on Brownian Motion Increments\n"
     ]
    },
    {
     "data": {
      "text/plain": [
       "array([[ 1.        , -0.67811706],\n",
       "       [-0.67811706,  1.        ]])"
      ]
     },
     "execution_count": 13,
     "metadata": {},
     "output_type": "execute_result"
    }
   ],
   "source": [
    "print('Imposed Correlation on Brownian Motion Increments')\n",
    "np.corrcoef(np.array([CX[0], CX[1]]))"
   ]
  },
  {
   "cell_type": "markdown",
   "id": "5c214485",
   "metadata": {},
   "source": [
    "### Simulating Correlated Brownian Motions Method II\n",
    "\n",
    "#### Analytical Method for Generating Correlated Brownian Motions\n",
    "\n",
    "$$W_t^2 = \\rho W_t^1 + \\sqrt{1-\\rho^2}Z_t$$\n",
    "\n",
    "$$Z_t \\perp W_t^1$$\n",
    "\n",
    "$$dW_t^1, dZ_t \\sim N(0, \\sqrt{dt})$$"
   ]
  },
  {
   "cell_type": "markdown",
   "id": "ed6840b4",
   "metadata": {},
   "source": [
    "Here we can see that $Z_t$ and $W^1_t$ are Brownian motions driving the $W^2_t$ process, satisfying equation the first equation will yield two Brownian motions correlated by the coefficient $\\rho$."
   ]
  },
  {
   "cell_type": "markdown",
   "id": "d8b76288",
   "metadata": {},
   "source": [
    "First, we will establish the $Z_t$ process.  Instead of regenerating a Brownian motion we will use one of the paths from before so we can yield the same result..."
   ]
  },
  {
   "cell_type": "code",
   "execution_count": 14,
   "id": "4ceb260d",
   "metadata": {},
   "outputs": [],
   "source": [
    "Zt = X[1]"
   ]
  },
  {
   "cell_type": "markdown",
   "id": "1ebd7a63",
   "metadata": {},
   "source": [
    "Here we establish the $W^1_t$ process, same data, same result..."
   ]
  },
  {
   "cell_type": "code",
   "execution_count": 15,
   "id": "325a945f",
   "metadata": {},
   "outputs": [],
   "source": [
    "Wt1 = X[0]"
   ]
  },
  {
   "cell_type": "markdown",
   "id": "e421e269",
   "metadata": {},
   "source": [
    "Lastly, we construct the correlated Brownian motion by satisfying the first equation..."
   ]
  },
  {
   "cell_type": "code",
   "execution_count": 16,
   "id": "eff9f0c2",
   "metadata": {},
   "outputs": [],
   "source": [
    "Wt2 = rho*Wt1 + np.sqrt(1-(rho**2))*Zt"
   ]
  },
  {
   "cell_type": "markdown",
   "id": "da36f316",
   "metadata": {},
   "source": [
    "Let's go ahead and plot the two paths..."
   ]
  },
  {
   "cell_type": "code",
   "execution_count": 17,
   "id": "51d7dbb0",
   "metadata": {},
   "outputs": [
    {
     "data": {
      "text/plain": [
       "[<matplotlib.lines.Line2D at 0x18aefbb2940>]"
      ]
     },
     "execution_count": 17,
     "metadata": {},
     "output_type": "execute_result"
    },
    {
     "data": {
      "image/png": "[encoded data removed]",
      "text/plain": [
       "<Figure size 432x288 with 1 Axes>"
      ]
     },
     "metadata": {
      "needs_background": "light"
     },
     "output_type": "display_data"
    }
   ],
   "source": [
    "plt.plot(Wt1.cumsum())\n",
    "plt.plot(Wt2.cumsum())"
   ]
  },
  {
   "cell_type": "markdown",
   "id": "eb388977",
   "metadata": {},
   "source": [
    "Just as above, we can see the correlation matrix in the increment and path space by calling numpy's correlation function..."
   ]
  },
  {
   "cell_type": "code",
   "execution_count": 18,
   "id": "2c81d34d",
   "metadata": {},
   "outputs": [
    {
     "name": "stdout",
     "output_type": "stream",
     "text": [
      "Imposed Correlation on Brownian Motion Paths\n"
     ]
    },
    {
     "data": {
      "text/plain": [
       "array([[ 1.        , -0.62813226],\n",
       "       [-0.62813226,  1.        ]])"
      ]
     },
     "execution_count": 18,
     "metadata": {},
     "output_type": "execute_result"
    }
   ],
   "source": [
    "print('Imposed Correlation on Brownian Motion Paths')\n",
    "np.corrcoef(np.array([Wt1.cumsum(), Wt2.cumsum()]))"
   ]
  },
  {
   "cell_type": "code",
   "execution_count": 19,
   "id": "8fbe7e98",
   "metadata": {},
   "outputs": [
    {
     "name": "stdout",
     "output_type": "stream",
     "text": [
      "Imposed Correlation on Brownian Motion Increments\n"
     ]
    },
    {
     "data": {
      "text/plain": [
       "array([[ 1.        , -0.67811706],\n",
       "       [-0.67811706,  1.        ]])"
      ]
     },
     "execution_count": 19,
     "metadata": {},
     "output_type": "execute_result"
    }
   ],
   "source": [
    "print('Imposed Correlation on Brownian Motion Increments')\n",
    "np.corrcoef(np.array([Wt1, Wt2]))"
   ]
  },
  {
   "cell_type": "markdown",
   "id": "84ba5aa6",
   "metadata": {},
   "source": [
    "They match and we have successfully showed two ways of generating correlated Brownian motions!"
   ]
  },
  {
   "cell_type": "markdown",
   "id": "b8c06254",
   "metadata": {},
   "source": [
    "© 2022, Quant Guild"
   ]
  }
 ],
 "metadata": {
  "kernelspec": {
   "display_name": "Python 3 (ipykernel)",
   "language": "python",
   "name": "python3"
  },
  "language_info": {
   "codemirror_mode": {
    "name": "ipython",
    "version": 3
   },
   "file_extension": ".py",
   "mimetype": "text/x-python",
   "name": "python",
   "nbconvert_exporter": "python",
   "pygments_lexer": "ipython3",
   "version": "3.9.9"
  }
 },
 "nbformat": 4,
 "nbformat_minor": 5
}
